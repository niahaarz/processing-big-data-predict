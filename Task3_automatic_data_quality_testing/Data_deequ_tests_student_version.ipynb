{
 "cells": [
  {
   "cell_type": "markdown",
   "metadata": {},
   "source": [
    "# Processing Big Data - Deequ Analysis\n",
    "\n",
    "© Explore Data Science Academy\n",
    "\n",
    "## Honour Code\n",
    "I Jérôme Pialat, confirm - by submitting this document - that the solutions in this notebook are a result of my own work and that I abide by the [EDSA honour code](https://drive.google.com/file/d/1QDCjGZJ8-FmJE3bZdIQNwnJyQKPhHZBn/view?usp=sharing).\n",
    "    Non-compliance with the honour code constitutes a material breach of contract.\n",
    "\n",
    "\n",
    "## Context\n",
    "\n",
    "Having completed manual data quality checks, it should be obvious that the process can become quite cumbersome. As the Data Engineer in the team, you have researched some tools that could potentially save the team from having to do this cumbersome work. In your research, you have come a across a tool called [Deequ](https://github.com/awslabs/deequ), which is a library for measuring the data quality of large datasets.\n",
    "\n",
    "<div align=\"center\" style=\"width: 600px; font-size: 80%; text-align: center; margin: 0 auto\">\n",
    "<img src=\"https://github.com/Explore-AI/Pictures/raw/master/data_engineering/transform/predict/DataQuality.jpg\"\n",
    "     alt=\"Data Quality\"\n",
    "     style=\"float: center; padding-bottom=0.5em\"\n",
    "     width=100%/>\n",
    "     <p><em>Figure 1. Six dimensions of data quality</em></p>\n",
    "</div>\n",
    "\n",
    "You present this tool to your manager; he is quite impressed and gives you the go-ahead to use this in your implementation. You are now required to perform some data quality tests using this automated data testing tool.\n",
    " "
   ]
  },
  {
   "cell_type": "markdown",
   "metadata": {},
   "source": [
    "> ## 🚩️ Important Notice 🚩️\n",
    ">\n",
    ">To successfully run `pydeequ` without any errors, please make sure that you have an environment that is running pyspark version 3.0.\n",
    "> You are advised to **create a new conda environment** and install this specific version of pyspark to avoid any technical issues:\n",
    ">\n",
    "> `pip install pyspark==3.0`\n",
    "\n",
    "<br>\n",
    "\n",
    "## Import dependencies\n",
    "\n",
    "If you do not have `pydeequ` already installed, install it using the following command:\n",
    "- `pip install pydeequ`"
   ]
  },
  {
   "cell_type": "code",
   "execution_count": 53,
   "metadata": {},
   "outputs": [],
   "source": [
    "import pandas as pd\n",
    "import numpy as np\n",
    "import matplotlib.pyplot as plt\n",
    "import pydeequ\n",
    "from pydeequ.analyzers import *\n",
    "from pydeequ.profiles import *\n",
    "from pydeequ.suggestions import *\n",
    "from pydeequ.checks import *\n",
    "from pydeequ.verification import *\n",
    "\n",
    "from pyspark.sql import SparkSession\n",
    "from pyspark.sql import functions as F\n",
    "from pyspark.sql.types import DecimalType, DoubleType, IntegerType, DateType, NumericType, StructType, StringType, StructField"
   ]
  },
  {
   "cell_type": "code",
   "execution_count": 54,
   "metadata": {},
   "outputs": [],
   "source": [
    "spark = (SparkSession\n",
    "    .builder\n",
    "    .config(\"spark.jars.packages\", pydeequ.deequ_maven_coord)\n",
    "    .config(\"spark.jars.excludes\", pydeequ.f2j_maven_coord)\n",
    "    .getOrCreate())"
   ]
  },
  {
   "cell_type": "markdown",
   "metadata": {},
   "source": [
    "## Read data into spark dataframe\n",
    "\n",
    "In this notebook, we set out to run some data quality tests, with the possiblity of running end to end on the years 1963, 1974, 1985, 1996, 2007, and 2018. \n",
    "\n",
    "> ℹ️ **Instructions** ℹ️\n",
    ">\n",
    ">1. Make use of the `Data_ingestion_student_version.ipynb` notebook to create the parquet files for the following years:\n",
    ">       - 1963\n",
    ">       - 1974\n",
    ">       - 1985\n",
    ">       - 1996\n",
    ">       - 2007\n",
    ">       - 2018\n",
    ">\n",
    ">2. Ingest the data for the for the years given above. You should only do it one year at a time.\n",
    ">3. Ingest the metadata file.\n",
    "\n",
    "\n",
    "When developing your code, it will be sufficient to focus on a single year. However, after your development is done, you will need to run this notebook for all of the given years above so that you can answer all the questions given in the Data Testing MCQ."
   ]
  },
  {
   "cell_type": "code",
   "execution_count": 186,
   "metadata": {},
   "outputs": [],
   "source": [
    "#TODO: Write your code here\n",
    "# Use this variable (year) to determine which year your are focusing on\n",
    "year = 2018\n",
    "df = spark.read.parquet(f'G:\\\\My Drive\\\\CourseWork\\\\processing-big-data-predict\\\\{year}\\\\')\n"
   ]
  },
  {
   "cell_type": "markdown",
   "metadata": {},
   "source": [
    "## **Run tests on the dataset**\n",
    "\n",
    "## Test 1 - Null values ⛔️\n",
    "For the first test, you are required to check the data for completeness.\n",
    "\n",
    "> ℹ️ **Instructions** ℹ️\n",
    ">\n",
    ">1. Make use of the `Verification Suite` and write code to check for missing values in the data. \n",
    ">2. Display the results of your test.\n",
    ">\n",
    "> *You may use as many cells as necessary*\n"
   ]
  },
  {
   "cell_type": "code",
   "execution_count": 189,
   "metadata": {},
   "outputs": [
    {
     "name": "stdout",
     "output_type": "stream",
     "text": [
      "+--------------------+-----------+------------+--------------------+-----------------+--------------------+\n",
      "|               check|check_level|check_status|          constraint|constraint_status|  constraint_message|\n",
      "+--------------------+-----------+------------+--------------------+-----------------+--------------------+\n",
      "|Missing Values Check|      Error|       Error|CompletenessConst...|          Success|                    |\n",
      "|Missing Values Check|      Error|       Error|CompletenessConst...|          Failure|Value: 0.99996644...|\n",
      "|Missing Values Check|      Error|       Error|CompletenessConst...|          Failure|Value: 0.99996644...|\n",
      "|Missing Values Check|      Error|       Error|CompletenessConst...|          Failure|Value: 0.99996644...|\n",
      "|Missing Values Check|      Error|       Error|CompletenessConst...|          Failure|Value: 0.99996644...|\n",
      "|Missing Values Check|      Error|       Error|CompletenessConst...|          Failure|Value: 0.99996644...|\n",
      "|Missing Values Check|      Error|       Error|CompletenessConst...|          Failure|Value: 0.99996644...|\n",
      "|Missing Values Check|      Error|       Error|CompletenessConst...|          Success|                    |\n",
      "+--------------------+-----------+------------+--------------------+-----------------+--------------------+\n",
      "\n"
     ]
    }
   ],
   "source": [
    "#TODO: Write your code here\n",
    "Missingcheck = Check(spark, CheckLevel.Error, \"Missing Values Check\")\n",
    "\n",
    "checkMissing = VerificationSuite(spark) \\\n",
    "    .onData(df) \\\n",
    "    .addCheck(\n",
    "        Missingcheck.isComplete('date') \\\n",
    "            .isComplete('open') \\\n",
    "            .isComplete('high') \\\n",
    "            .isComplete('low') \\\n",
    "            .isComplete('close') \\\n",
    "            .isComplete('adj_close') \\\n",
    "            .isComplete('volume') \\\n",
    "            .isComplete('stock')).run()\n",
    "\n",
    "checkResult_df = VerificationResult.checkResultsAsDataFrame(spark, checkMissing)\n",
    "checkResult_df.show()"
   ]
  },
  {
   "cell_type": "markdown",
   "metadata": {},
   "source": [
    "## Test 2 - Zero Values 🅾️\n",
    "\n",
    "For the second test, you are required to check for zero values within the dataset.\n",
    "\n",
    "> ℹ️ **Instructions** ℹ️\n",
    ">\n",
    ">1. Make use of the `Verification Suite` and write code to check for zero values within the data. \n",
    ">2. Display the results of your test.\n",
    ">\n",
    "> *You may use as many cells as necessary*"
   ]
  },
  {
   "cell_type": "code",
   "execution_count": 190,
   "metadata": {},
   "outputs": [
    {
     "name": "stdout",
     "output_type": "stream",
     "text": [
      "+--------------------+-----------+------------+--------------------+-----------------+--------------------+\n",
      "|               check|check_level|check_status|          constraint|constraint_status|  constraint_message|\n",
      "+--------------------+-----------+------------+--------------------+-----------------+--------------------+\n",
      "|Greater than zero...|      Error|       Error|MinimumConstraint...|          Success|                    |\n",
      "|Greater than zero...|      Error|       Error|MinimumConstraint...|          Failure|Value: 0.0 does n...|\n",
      "|Greater than zero...|      Error|       Error|MinimumConstraint...|          Failure|Value: 0.0 does n...|\n",
      "|Greater than zero...|      Error|       Error|MinimumConstraint...|          Success|                    |\n",
      "|Greater than zero...|      Error|       Error|MinimumConstraint...|          Success|                    |\n",
      "|Greater than zero...|      Error|       Error|MinimumConstraint...|          Failure|Value: 0.0 does n...|\n",
      "+--------------------+-----------+------------+--------------------+-----------------+--------------------+\n",
      "\n"
     ]
    },
    {
     "data": {
      "text/plain": [
       "[Row(check='Greater than zero check', check_level='Error', check_status='Error', constraint='MinimumConstraint(Minimum(open,None))', constraint_status='Success', constraint_message=''),\n",
       " Row(check='Greater than zero check', check_level='Error', check_status='Error', constraint='MinimumConstraint(Minimum(high,None))', constraint_status='Failure', constraint_message='Value: 0.0 does not meet the constraint requirement!'),\n",
       " Row(check='Greater than zero check', check_level='Error', check_status='Error', constraint='MinimumConstraint(Minimum(low,None))', constraint_status='Failure', constraint_message='Value: 0.0 does not meet the constraint requirement!'),\n",
       " Row(check='Greater than zero check', check_level='Error', check_status='Error', constraint='MinimumConstraint(Minimum(close,None))', constraint_status='Success', constraint_message=''),\n",
       " Row(check='Greater than zero check', check_level='Error', check_status='Error', constraint='MinimumConstraint(Minimum(adj_close,None))', constraint_status='Success', constraint_message=''),\n",
       " Row(check='Greater than zero check', check_level='Error', check_status='Error', constraint='MinimumConstraint(Minimum(volume,None))', constraint_status='Failure', constraint_message='Value: 0.0 does not meet the constraint requirement!')]"
      ]
     },
     "execution_count": 190,
     "metadata": {},
     "output_type": "execute_result"
    }
   ],
   "source": [
    "#TODO: Write your code here\n",
    "greaterThanZero = Check(spark, CheckLevel.Error, \"Greater than zero check\")\n",
    "\n",
    "checkZeros = VerificationSuite(spark) \\\n",
    "    .onData(df) \\\n",
    "    .addCheck(\n",
    "        greaterThanZero.hasMin('open',lambda x:x > 0) \\\n",
    "                    .hasMin('high',lambda x:x > 0) \\\n",
    "                    .hasMin('low',lambda x:x > 0) \\\n",
    "                    .hasMin('close',lambda x:x > 0) \\\n",
    "                    .hasMin('adj_close',lambda x:x > 0) \\\n",
    "                    .hasMin('volume',lambda x:x > 0)).run()\n",
    "\n",
    "checkResult_df = VerificationResult.checkResultsAsDataFrame(spark, checkZeros)\n",
    "checkResult_df.show()\n",
    "checkResult_df.collect()"
   ]
  },
  {
   "cell_type": "markdown",
   "metadata": {},
   "source": [
    "## Test 3 - Negative values ➖️\n",
    "The third test requires you to check that all values in the data are positive.\n",
    "\n",
    "> ℹ️ **Instructions** ℹ️\n",
    ">\n",
    ">1. Make use of the `Verification Suite` and write code to check negative values within the dataset. \n",
    ">2. Display the results of your test.\n",
    ">\n",
    "> *You may use as many cells as necessary*"
   ]
  },
  {
   "cell_type": "code",
   "execution_count": 191,
   "metadata": {},
   "outputs": [
    {
     "name": "stdout",
     "output_type": "stream",
     "text": [
      "+--------------------+-----------+------------+--------------------+-----------------+--------------------+\n",
      "|               check|check_level|check_status|          constraint|constraint_status|  constraint_message|\n",
      "+--------------------+-----------+------------+--------------------+-----------------+--------------------+\n",
      "|Not a negative check|      Error|       Error|ComplianceConstra...|          Success|                    |\n",
      "|Not a negative check|      Error|       Error|ComplianceConstra...|          Failure|Value: 0.99999923...|\n",
      "|Not a negative check|      Error|       Error|ComplianceConstra...|          Failure|Value: 0.99999923...|\n",
      "|Not a negative check|      Error|       Error|ComplianceConstra...|          Success|                    |\n",
      "|Not a negative check|      Error|       Error|ComplianceConstra...|          Success|                    |\n",
      "|Not a negative check|      Error|       Error|ComplianceConstra...|          Failure|Value: 0.97253581...|\n",
      "+--------------------+-----------+------------+--------------------+-----------------+--------------------+\n",
      "\n"
     ]
    },
    {
     "data": {
      "text/plain": [
       "[Row(check='Not a negative check', check_level='Error', check_status='Error', constraint='ComplianceConstraint(Compliance(open is positive,COALESCE(CAST(open AS DECIMAL(20,10)), 1.0) > 0,None))', constraint_status='Success', constraint_message=''),\n",
       " Row(check='Not a negative check', check_level='Error', check_status='Error', constraint='ComplianceConstraint(Compliance(high is positive,COALESCE(CAST(high AS DECIMAL(20,10)), 1.0) > 0,None))', constraint_status='Failure', constraint_message='Value: 0.999999237317738 does not meet the constraint requirement!'),\n",
       " Row(check='Not a negative check', check_level='Error', check_status='Error', constraint='ComplianceConstraint(Compliance(low is positive,COALESCE(CAST(low AS DECIMAL(20,10)), 1.0) > 0,None))', constraint_status='Failure', constraint_message='Value: 0.999999237317738 does not meet the constraint requirement!'),\n",
       " Row(check='Not a negative check', check_level='Error', check_status='Error', constraint='ComplianceConstraint(Compliance(close is positive,COALESCE(CAST(close AS DECIMAL(20,10)), 1.0) > 0,None))', constraint_status='Success', constraint_message=''),\n",
       " Row(check='Not a negative check', check_level='Error', check_status='Error', constraint='ComplianceConstraint(Compliance(adj_close is positive,COALESCE(CAST(adj_close AS DECIMAL(20,10)), 1.0) > 0,None))', constraint_status='Success', constraint_message=''),\n",
       " Row(check='Not a negative check', check_level='Error', check_status='Error', constraint='ComplianceConstraint(Compliance(volume is positive,COALESCE(CAST(volume AS DECIMAL(20,10)), 1.0) > 0,None))', constraint_status='Failure', constraint_message='Value: 0.9725358117456119 does not meet the constraint requirement!')]"
      ]
     },
     "execution_count": 191,
     "metadata": {},
     "output_type": "execute_result"
    }
   ],
   "source": [
    "#TODO: Write your code here\n",
    "notNegative = Check(spark, CheckLevel.Error, \"Not a negative check\")\n",
    "\n",
    "checkNegative = VerificationSuite(spark) \\\n",
    "    .onData(df)\\\n",
    "    .addCheck(\n",
    "        notNegative.isPositive('open') \\\n",
    "                    .isPositive('high') \\\n",
    "                    .isPositive('low') \\\n",
    "                    .isPositive('close') \\\n",
    "                    .isPositive('adj_close') \\\n",
    "                    .isPositive('volume')).run()\n",
    "\n",
    "checkResult_df = VerificationResult.checkResultsAsDataFrame(spark, checkNegative)\n",
    "checkResult_df.show()\n",
    "checkResult_df.collect()"
   ]
  },
  {
   "cell_type": "markdown",
   "metadata": {},
   "source": [
    "## Test 4 - Determine Maximum Values ⚠️\n",
    "\n",
    "For the fourth test, we want to find the maximum values in the dataset for the numerical fields. Extremum values can often be used to define an upper bound for the column values so we can define them as the threshold values. \n",
    "\n",
    "> ℹ️ **Instructions** ℹ️\n",
    ">\n",
    ">1. Make use of the `Column Profiler Runner` to generate summary statistics for all the available columns. \n",
    ">2. Extract the maximum values for all the numeric columns in the data.\n",
    ">\n",
    "> *You may use as many cells as necessary*"
   ]
  },
  {
   "cell_type": "code",
   "execution_count": 192,
   "metadata": {},
   "outputs": [
    {
     "name": "stdout",
     "output_type": "stream",
     "text": [
      "StandardProfiles for column: stock: {\n",
      "    \"completeness\": 1.0,\n",
      "    \"approximateNumDistinctValues\": 5234,\n",
      "    \"dataType\": \"String\",\n",
      "    \"isDataTypeInferred\": false,\n",
      "    \"typeCounts\": {\n",
      "        \"Boolean\": 0,\n",
      "        \"Fractional\": 0,\n",
      "        \"Integral\": 0,\n",
      "        \"Unknown\": 0,\n",
      "        \"String\": 1311162\n",
      "    },\n",
      "    \"histogram\": null\n",
      "}\n",
      "NumericProfiles for column: open: {\n",
      "    \"completeness\": 0.9999664419804722,\n",
      "    \"approximateNumDistinctValues\": 56728,\n",
      "    \"dataType\": \"Fractional\",\n",
      "    \"isDataTypeInferred\": false,\n",
      "    \"typeCounts\": {},\n",
      "    \"histogram\": null,\n",
      "    \"kll\": \"None\",\n",
      "    \"mean\": 55.48896588188843,\n",
      "    \"maximum\": 117187.5,\n",
      "    \"minimum\": 0.003000000026077032,\n",
      "    \"sum\": 72752581.9691298,\n",
      "    \"stdDev\": 704.9307332007446,\n",
      "    \"approxPercentiles\": []\n",
      "}\n",
      "NumericProfiles for column: low: {\n",
      "    \"completeness\": 0.9999664419804722,\n",
      "    \"approximateNumDistinctValues\": 67390,\n",
      "    \"dataType\": \"Fractional\",\n",
      "    \"isDataTypeInferred\": false,\n",
      "    \"typeCounts\": {},\n",
      "    \"histogram\": null,\n",
      "    \"kll\": \"None\",\n",
      "    \"mean\": 54.343964718865635,\n",
      "    \"maximum\": 109375.0,\n",
      "    \"minimum\": 0.0,\n",
      "    \"sum\": 71251350.33426967,\n",
      "    \"stdDev\": 673.1267378628413,\n",
      "    \"approxPercentiles\": []\n",
      "}\n",
      "StandardProfiles for column: date: {\n",
      "    \"completeness\": 1.0,\n",
      "    \"approximateNumDistinctValues\": 255,\n",
      "    \"dataType\": \"Unknown\",\n",
      "    \"isDataTypeInferred\": false,\n",
      "    \"typeCounts\": {},\n",
      "    \"histogram\": null\n",
      "}\n",
      "NumericProfiles for column: close: {\n",
      "    \"completeness\": 0.9999664419804722,\n",
      "    \"approximateNumDistinctValues\": 57230,\n",
      "    \"dataType\": \"Fractional\",\n",
      "    \"isDataTypeInferred\": false,\n",
      "    \"typeCounts\": {},\n",
      "    \"histogram\": null,\n",
      "    \"kll\": \"None\",\n",
      "    \"mean\": 55.28243337438851,\n",
      "    \"maximum\": 109375.0,\n",
      "    \"minimum\": 0.003000000026077032,\n",
      "    \"sum\": 72481793.48096152,\n",
      "    \"stdDev\": 691.7621655637253,\n",
      "    \"approxPercentiles\": []\n",
      "}\n",
      "NumericProfiles for column: volume: {\n",
      "    \"completeness\": 0.9999664419804722,\n",
      "    \"approximateNumDistinctValues\": 88106,\n",
      "    \"dataType\": \"Integral\",\n",
      "    \"isDataTypeInferred\": false,\n",
      "    \"typeCounts\": {},\n",
      "    \"histogram\": null,\n",
      "    \"kll\": \"None\",\n",
      "    \"mean\": 965055.8694282285,\n",
      "    \"maximum\": 358775700.0,\n",
      "    \"minimum\": 0.0,\n",
      "    \"sum\": 1265302121413.0,\n",
      "    \"stdDev\": 3676642.5901722377,\n",
      "    \"approxPercentiles\": []\n",
      "}\n",
      "NumericProfiles for column: adj_close: {\n",
      "    \"completeness\": 0.9999664419804722,\n",
      "    \"approximateNumDistinctValues\": 628532,\n",
      "    \"dataType\": \"Fractional\",\n",
      "    \"isDataTypeInferred\": false,\n",
      "    \"typeCounts\": {},\n",
      "    \"histogram\": null,\n",
      "    \"kll\": \"None\",\n",
      "    \"mean\": 53.9101758887543,\n",
      "    \"maximum\": 109375.0,\n",
      "    \"minimum\": 0.003000000026077032,\n",
      "    \"sum\": 70682601.99091177,\n",
      "    \"stdDev\": 686.7287596129281,\n",
      "    \"approxPercentiles\": []\n",
      "}\n",
      "NumericProfiles for column: high: {\n",
      "    \"completeness\": 0.9999664419804722,\n",
      "    \"approximateNumDistinctValues\": 71181,\n",
      "    \"dataType\": \"Fractional\",\n",
      "    \"isDataTypeInferred\": false,\n",
      "    \"typeCounts\": {},\n",
      "    \"histogram\": null,\n",
      "    \"kll\": \"None\",\n",
      "    \"mean\": 56.45080449303802,\n",
      "    \"maximum\": 125000.0,\n",
      "    \"minimum\": 0.0,\n",
      "    \"sum\": 74013665.88530302,\n",
      "    \"stdDev\": 722.598162206338,\n",
      "    \"approxPercentiles\": []\n",
      "}\n"
     ]
    }
   ],
   "source": [
    "#TODO: Write your code here\n",
    "result = ColumnProfilerRunner(spark) \\\n",
    "    .onData(df) \\\n",
    "    .run()\n",
    "\n",
    "for col, profile in result.profiles.items():\n",
    "    print(profile)"
   ]
  },
  {
   "cell_type": "markdown",
   "metadata": {},
   "source": [
    "## Test 5 - Stock Tickers 💹️\n",
    "\n",
    "For the fifth test, we want to determine if the stock tickers contained in our dataset are consistent. To do this, you will need to make use of use of the metadata file to check that the stock names used in the dataframe are valid. \n",
    "\n",
    "> ℹ️ **Instructions** ℹ️\n",
    ">\n",
    ">1. Make use of the `Verification Suite` and write code to determine if the stock tickers contained in the dataset appear in the metadata file.\n",
    ">2. Display the results of your test.\n",
    ">\n",
    "> *You may use as many cells as necessary*"
   ]
  },
  {
   "cell_type": "code",
   "execution_count": 193,
   "metadata": {},
   "outputs": [
    {
     "name": "stdout",
     "output_type": "stream",
     "text": [
      "+--------------+-----------+------------+--------------------+-----------------+--------------------+\n",
      "|         check|check_level|check_status|          constraint|constraint_status|  constraint_message|\n",
      "+--------------+-----------+------------+--------------------+-----------------+--------------------+\n",
      "|Invalid Ticker|      Error|       Error|ComplianceConstra...|          Failure|Value: 0.99958662...|\n",
      "+--------------+-----------+------------+--------------------+-----------------+--------------------+\n",
      "\n"
     ]
    }
   ],
   "source": [
    "#TODO: Write your code here\n",
    "metadata = spark.read.csv(f'G:\\\\My Drive\\\\CourseWork\\\\processing-big-data-predict\\\\Task2_data_profiling\\\\symbols_valid_meta.csv',header=True)\n",
    "stockList = metadata.toPandas()['Symbol'].tolist()\n",
    "\n",
    "validTickers = Check(spark, CheckLevel.Error, \"Invalid Ticker\")\n",
    "\n",
    "checkTickers = VerificationSuite(spark) \\\n",
    "    .onData(df) \\\n",
    "    .addCheck(\n",
    "        validTickers.isContainedIn('stock',stockList)).run()\n",
    "\n",
    "checkResult_df = VerificationResult.checkResultsAsDataFrame(spark, checkTickers)\n",
    "checkResult_df.show()\n"
   ]
  },
  {
   "cell_type": "markdown",
   "metadata": {},
   "source": [
    "## Test 6 - Duplication 👥️\n",
    "Lastly, we want to determine the uniqueness of the items found in the dataframe. You need to make use of the Verification Suite to check for the validity of the stock tickers. \n",
    "\n",
    "Similar to the previous notebook - `Data_profiling_student_version.ipynb`, the first thing to check will be if the primary key values within the dataset are unique - in our case, that will be a combination of the stock name and the date. Secondly, we want to check if the entries are all unique, which is done by checking for duplicates across that whole dataset.\n",
    "\n",
    "> ℹ️ **Instructions** ℹ️\n",
    ">\n",
    ">1. Make use of the `Verification Suite` and write code to determine the uniqueness of entries contained within the dataset.\n",
    ">2. Display the results of your test.\n",
    ">\n",
    "> *You may use as many cells as necessary*\n",
    "\n"
   ]
  },
  {
   "cell_type": "code",
   "execution_count": 194,
   "metadata": {},
   "outputs": [
    {
     "name": "stdout",
     "output_type": "stream",
     "text": [
      "+---------------+-----------+------------+--------------------+-----------------+------------------+\n",
      "|          check|check_level|check_status|          constraint|constraint_status|constraint_message|\n",
      "+---------------+-----------+------------+--------------------+-----------------+------------------+\n",
      "|Duplicate value|      Error|     Success|UniquenessConstra...|          Success|                  |\n",
      "+---------------+-----------+------------+--------------------+-----------------+------------------+\n",
      "\n"
     ]
    },
    {
     "data": {
      "text/plain": [
       "[Row(check='Duplicate value', check_level='Error', check_status='Success', constraint='UniquenessConstraint(Uniqueness(List(UniqueId),None))', constraint_status='Success', constraint_message='')]"
      ]
     },
     "execution_count": 194,
     "metadata": {},
     "output_type": "execute_result"
    }
   ],
   "source": [
    "#TODO: Write your code here\n",
    "df = df.withColumn('UniqueId',F.concat('date','stock'))\n",
    "\n",
    "noDuplicates = Check(spark, CheckLevel.Error, \"Duplicate value\")\n",
    "\n",
    "checkDuplicates = VerificationSuite(spark) \\\n",
    "    .onData(df) \\\n",
    "    .addCheck(\n",
    "        noDuplicates.isUnique('UniqueId')).run()\n",
    "\n",
    "checkResult_df = VerificationResult.checkResultsAsDataFrame(spark, checkDuplicates)\n",
    "checkResult_df.show()\n",
    "checkResult_df.collect()"
   ]
  }
 ],
 "metadata": {
  "interpreter": {
   "hash": "cda2fc890f96cd9285b9e993be97010c1d8652a2601cf021c3e8f58e4395852a"
  },
  "kernelspec": {
   "display_name": "Python 3.9.12 ('pyspark')",
   "language": "python",
   "name": "python3"
  },
  "language_info": {
   "codemirror_mode": {
    "name": "ipython",
    "version": 3
   },
   "file_extension": ".py",
   "mimetype": "text/x-python",
   "name": "python",
   "nbconvert_exporter": "python",
   "pygments_lexer": "ipython3",
   "version": "3.9.12"
  }
 },
 "nbformat": 4,
 "nbformat_minor": 2
}
