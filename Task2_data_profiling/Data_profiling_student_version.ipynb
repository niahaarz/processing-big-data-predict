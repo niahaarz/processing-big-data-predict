{
 "cells": [
  {
   "cell_type": "markdown",
   "metadata": {},
   "source": [
    "# Processing Big Data - Data profiling\n",
    "\n",
    "© Explore Data Science Academy\n",
    "\n",
    "## Honour Code\n",
    "I **JEROME, PIALAT**, confirm - by submitting this document - that the solutions in this notebook are a result of my own work and that I abide by the [EDSA honour code](https://drive.google.com/file/d/1QDCjGZJ8-FmJE3bZdIQNwnJyQKPhHZBn/view?usp=sharing).\n",
    "    Non-compliance with the honour code constitutes a material breach of contract.\n",
    "\n",
    "## Context\n",
    "\n",
    "Having completed the first step - data ingestion, the data now needs to be thoroughly prepared so that it is readable, reliable and robust. As the Data Engineer in the team, this will be your responsibility. The Data Scientists are looking to you to clean this data so that model development and deployment become seamless when the data is used in a production environment. Having completed your Data Engineering course recently, your manager Gnissecorp Atadgid, asks you to create data summaries and perform checks using the six dimensions of data quality.\n",
    "\n",
    "<div align=\"center\" style=\"width: 600px; font-size: 80%; text-align: center; margin: 0 auto\">\n",
    "<img src=\"https://github.com/Explore-AI/Pictures/raw/master/data_engineering/transform/predict/DataQuality.jpg\"\n",
    "     alt=\"Data Quality\"\n",
    "     style=\"float: center; padding-bottom=0.5em\"\n",
    "     width=100%/>\n",
    "     <p><em>Figure 1. Six dimensions of data quality</em></p>\n",
    "</div>"
   ]
  },
  {
   "cell_type": "markdown",
   "metadata": {},
   "source": [
    "## Import libraries\n",
    "Below we import the libraries required to complete this section of the predict."
   ]
  },
  {
   "cell_type": "code",
   "execution_count": 1,
   "metadata": {},
   "outputs": [],
   "source": [
    "import pandas as pd\n",
    "import numpy as np\n",
    "import matplotlib.pyplot as plt\n",
    "\n",
    "from pyspark import SparkContext\n",
    "from pyspark.sql import SparkSession\n",
    "from pyspark.sql import functions as F\n",
    "from pyspark.sql.types import *"
   ]
  },
  {
   "cell_type": "markdown",
   "metadata": {},
   "source": [
    "Remember that we need a `SparkContext` and `SparkSession` to interface with Spark.\n",
    "We will mostly be using the `SparkContext` to interact with RDDs \n",
    "and the `SparkSession` to interface with Python objects.\n",
    "\n",
    "> ℹ️ **Instructions** ℹ️\n",
    ">\n",
    ">Initialise a new **Spark Context** and **Session** that you will use to interface with Spark."
   ]
  },
  {
   "cell_type": "code",
   "execution_count": 2,
   "metadata": {},
   "outputs": [],
   "source": [
    "#TODO: Write your code here.\n",
    "sc = SparkContext.getOrCreate()\n",
    "spark = SparkSession(sc)"
   ]
  },
  {
   "cell_type": "markdown",
   "metadata": {},
   "source": [
    "## Parquet files\n",
    "In the previous section of the predict, you generated parquet files to your local directory. You will be making use of these files to continue with this section of the predict. Please make sure that your parquet files are specifically for the year **1962**. Any other year used outside of **1962** will produce incorrect answers and have a negative impact on your overall predict mark.\n",
    "\n",
    "> ℹ️ **Instructions** ℹ️\n",
    ">\n",
    "> Read the parquet files stored in your directory for the year **1962** into a Spark DataFrame."
   ]
  },
  {
   "cell_type": "code",
   "execution_count": 3,
   "metadata": {},
   "outputs": [],
   "source": [
    "#TODO: Write your code here\n",
    "df_1962 = spark.read.parquet(r'G:\\My Drive\\CourseWork\\processing-big-data-predict\\parquet')"
   ]
  },
  {
   "cell_type": "code",
   "execution_count": 4,
   "metadata": {},
   "outputs": [
    {
     "name": "stdout",
     "output_type": "stream",
     "text": [
      "+----------+-----------+-----------+----------+-----------+------------+-------+-----+\n",
      "|      date|       open|       high|       low|      close|   adj_close| volume|stock|\n",
      "+----------+-----------+-----------+----------+-----------+------------+-------+-----+\n",
      "|1962-02-19|    5.83929|   5.907375|   5.83929|    5.86332|   1.3863293|  29900|   AA|\n",
      "|1962-02-19|   5.481634|   5.528486|  5.481634|  5.5167727|   1.2804527|  32000| ARNC|\n",
      "|1962-02-19|  0.9074074| 0.91563785|0.89917696|  0.9032922|  0.16141544| 619400|   BA|\n",
      "|1962-02-19|  1.6770834|  1.6927084| 1.6614584|  1.6770834|   0.1440587| 170400|  CAT|\n",
      "|1962-02-19|        0.0|   3.578869|      20.0|   3.549107| 0.056501225| 273600|  CVX|\n",
      "|1962-02-19|0.099767394|0.099767394|0.09820853| 0.09820853| 0.037543412| 817400|  DIS|\n",
      "|1962-02-19|        0.0|    29.9375|     29.75|    29.9375|  0.49964145|   1600|  DTE|\n",
      "|1962-02-19|        0.0|   9.921875|  9.890625|   9.921875|  0.22499175|   8800|   ED|\n",
      "|1962-02-19|        0.0|  7.0833335| 7.0208335|  7.0208335|  0.91296524|  20400|   FL|\n",
      "|1962-02-19| 0.77373797|   0.777494|0.76372194|   0.767478|0.0018262818|1557500|   GE|\n",
      "|1962-02-19|        0.0|    10.9375|     10.75|    10.9375|   1.9131781|  22800|   GT|\n",
      "|1962-02-19| 0.11264618| 0.11397664|0.11264618|0.113089666| 0.006272347| 591800|  HPQ|\n",
      "|1962-02-19|       7.26|  7.2933335|  7.173333|  7.1866665|   0.5825691| 280000|  IBM|\n",
      "|1962-02-19|        0.0|   9.003848|  8.822562|   8.882991|   0.7784165|  39300|   IP|\n",
      "|1962-02-19|        0.0| 0.23206018|0.23206018| 0.23206018| 6.541049E-7|  43200|  JNJ|\n",
      "|1962-02-19| 0.24153645| 0.24348958|0.24153645| 0.24348958| 0.003923037| 345600|   KO|\n",
      "|1962-02-19|        0.0| 0.17881945|0.17621528| 0.17708333|2.1674694E-4| 460800|   MO|\n",
      "|1962-02-19|        0.0|      280.0|   276.875|    279.375|   124.94374|    600|  NAV|\n",
      "|1962-02-19|        0.0|  1.2734375|  1.265625|   1.265625| 0.012011507| 281600|   PG|\n",
      "|1962-02-19|        0.0|  1.7460938| 1.7109375|  1.7382812| 0.015494763|1657600|  XOM|\n",
      "+----------+-----------+-----------+----------+-----------+------------+-------+-----+\n",
      "only showing top 20 rows\n",
      "\n"
     ]
    }
   ],
   "source": [
    "df_1962.show()"
   ]
  },
  {
   "cell_type": "markdown",
   "metadata": {},
   "source": [
    "## Metadata \n",
    "\n",
    "Metadata is data containing additional information about the data itself. In the cloud storage, there is a metadata file called [`symbols_valid_meta.csv`](https://processing-big-data-predict-stocks-data.s3.eu-west-1.amazonaws.com/symbols_valid_meta.csv) that is collocated with the stock market data. You will need to download this to use when performing your data quality checks.\n",
    "\n",
    "> ℹ️ **Instructions** ℹ️\n",
    ">\n",
    "> Download the metadata from the S3 bucket and read it into a Spark DataFrame."
   ]
  },
  {
   "cell_type": "code",
   "execution_count": 5,
   "metadata": {},
   "outputs": [
    {
     "name": "stdout",
     "output_type": "stream",
     "text": [
      "+-------------+------+--------------------+----------------+---------------+---+--------------+----------+----------------+----------+-------------+----------+\n",
      "|Nasdaq Traded|Symbol|       Security Name|Listing Exchange|Market Category|ETF|Round Lot Size|Test Issue|Financial Status|CQS Symbol|NASDAQ Symbol|NextShares|\n",
      "+-------------+------+--------------------+----------------+---------------+---+--------------+----------+----------------+----------+-------------+----------+\n",
      "|            Y|     A|Agilent Technolog...|               N|               |  N|         100.0|         N|            null|         A|            A|         N|\n",
      "|            Y|    AA|Alcoa Corporation...|               N|               |  N|         100.0|         N|            null|        AA|           AA|         N|\n",
      "|            Y|  AAAU|Perth Mint Physic...|               P|               |  Y|         100.0|         N|            null|      AAAU|         AAAU|         N|\n",
      "|            Y|  AACG|ATA Creativity Gl...|               Q|              G|  N|         100.0|         N|               N|      null|         AACG|         N|\n",
      "|            Y|  AADR|AdvisorShares Dor...|               P|               |  Y|         100.0|         N|            null|      AADR|         AADR|         N|\n",
      "|            Y|   AAL|American Airlines...|               Q|              Q|  N|         100.0|         N|               N|      null|          AAL|         N|\n",
      "|            Y|  AAMC|Altisource Asset ...|               A|               |  N|         100.0|         N|            null|      AAMC|         AAMC|         N|\n",
      "|            Y|  AAME|Atlantic American...|               Q|              G|  N|         100.0|         N|               N|      null|         AAME|         N|\n",
      "|            Y|   AAN|Aaron's, Inc. Com...|               N|               |  N|         100.0|         N|            null|       AAN|          AAN|         N|\n",
      "|            Y|  AAOI|Applied Optoelect...|               Q|              G|  N|         100.0|         N|               N|      null|         AAOI|         N|\n",
      "|            Y|  AAON|AAON, Inc. - Comm...|               Q|              Q|  N|         100.0|         N|               N|      null|         AAON|         N|\n",
      "|            Y|   AAP|Advance Auto Part...|               N|               |  N|         100.0|         N|            null|       AAP|          AAP|         N|\n",
      "|            Y|  AAPL|Apple Inc. - Comm...|               Q|              Q|  N|         100.0|         N|               N|      null|         AAPL|         N|\n",
      "|            Y|   AAT|American Assets T...|               N|               |  N|         100.0|         N|            null|       AAT|          AAT|         N|\n",
      "|            Y|   AAU|Almaden Minerals,...|               A|               |  N|         100.0|         N|            null|       AAU|          AAU|         N|\n",
      "|            Y|  AAWW|Atlas Air Worldwi...|               Q|              Q|  N|         100.0|         N|               N|      null|         AAWW|         N|\n",
      "|            Y|  AAXJ|iShares MSCI All ...|               Q|              G|  Y|         100.0|         N|               N|      null|         AAXJ|         N|\n",
      "|            Y|  AAXN|Axon Enterprise, ...|               Q|              Q|  N|         100.0|         N|               N|      null|         AAXN|         N|\n",
      "|            Y|    AB|AllianceBernstein...|               N|               |  N|         100.0|         N|            null|        AB|           AB|         N|\n",
      "|            Y|   ABB|ABB Ltd Common Stock|               N|               |  N|         100.0|         N|            null|       ABB|          ABB|         N|\n",
      "+-------------+------+--------------------+----------------+---------------+---+--------------+----------+----------------+----------+-------------+----------+\n",
      "only showing top 20 rows\n",
      "\n"
     ]
    }
   ],
   "source": [
    "#TODO: Write your code here\n",
    "metadata = spark.read.csv('./symbols_valid_meta.csv',header=True)\n",
    "metadata.show()"
   ]
  },
  {
   "cell_type": "markdown",
   "metadata": {},
   "source": [
    "## Data Accuracy\n",
    "Data accuracy is the degree to which data correctly describes a \"real world\" object or event.\n",
    "\n",
    "It is important to do checks to determine the basic integrity of the dataset; do the values fall within expected ranges?\n",
    "\n",
    "Most of the possible errors relating to data accuracy can occur at collection time. In our case, it is not possible to test the collection time accuracy, so we have to infer from ranges and summary statistics. Here you need to look closely at each field to see if its values make sense, with no strange surprises.\n",
    "\n",
    "In assessing accuracy, it is important to look into precision as well. Do you need seven decimals, or will one or two suffice?\n",
    "\n",
    "- **Measured by**: The degree to which the data mirrors the characteristics of the real-world object or objects it represents;\n",
    "- **Units**: The percentage of data entries that pass the data accuracy rules;\n",
    "- **Related to**: Validity, Uniqueness, Consistency."
   ]
  },
  {
   "cell_type": "markdown",
   "metadata": {},
   "source": [
    "> ℹ️ **Instructions** ℹ️\n",
    ">\n",
    "> Generate summary statistics to explore your data. Make sure you understand the ranges, means, extremums, and deviations found in the data set."
   ]
  },
  {
   "cell_type": "code",
   "execution_count": 6,
   "metadata": {},
   "outputs": [
    {
     "data": {
      "text/html": [
       "<div>\n",
       "<style scoped>\n",
       "    .dataframe tbody tr th:only-of-type {\n",
       "        vertical-align: middle;\n",
       "    }\n",
       "\n",
       "    .dataframe tbody tr th {\n",
       "        vertical-align: top;\n",
       "    }\n",
       "\n",
       "    .dataframe thead th {\n",
       "        text-align: right;\n",
       "    }\n",
       "</style>\n",
       "<table border=\"1\" class=\"dataframe\">\n",
       "  <thead>\n",
       "    <tr style=\"text-align: right;\">\n",
       "      <th></th>\n",
       "      <th>summary</th>\n",
       "      <th>open</th>\n",
       "      <th>high</th>\n",
       "      <th>low</th>\n",
       "      <th>close</th>\n",
       "      <th>adj_close</th>\n",
       "      <th>volume</th>\n",
       "      <th>stock</th>\n",
       "    </tr>\n",
       "  </thead>\n",
       "  <tbody>\n",
       "    <tr>\n",
       "      <th>0</th>\n",
       "      <td>count</td>\n",
       "      <td>5106</td>\n",
       "      <td>5106</td>\n",
       "      <td>5064</td>\n",
       "      <td>5106</td>\n",
       "      <td>5085</td>\n",
       "      <td>5085</td>\n",
       "      <td>5106</td>\n",
       "    </tr>\n",
       "    <tr>\n",
       "      <th>1</th>\n",
       "      <td>mean</td>\n",
       "      <td>1.0904873526012002</td>\n",
       "      <td>16.757624946793637</td>\n",
       "      <td>15.728619917198033</td>\n",
       "      <td>16.64199179044607</td>\n",
       "      <td>5.986642513535306</td>\n",
       "      <td>540930.2458210423</td>\n",
       "      <td>None</td>\n",
       "    </tr>\n",
       "    <tr>\n",
       "      <th>2</th>\n",
       "      <td>stddev</td>\n",
       "      <td>2.36445352530491</td>\n",
       "      <td>53.91407348193546</td>\n",
       "      <td>51.32292289814399</td>\n",
       "      <td>53.54677139900802</td>\n",
       "      <td>24.64637054715319</td>\n",
       "      <td>864596.2440525505</td>\n",
       "      <td>None</td>\n",
       "    </tr>\n",
       "    <tr>\n",
       "      <th>3</th>\n",
       "      <td>min</td>\n",
       "      <td>0.0</td>\n",
       "      <td>0.0</td>\n",
       "      <td>0.052377883</td>\n",
       "      <td>0.053624976</td>\n",
       "      <td>4.0381454E-7</td>\n",
       "      <td>0</td>\n",
       "      <td>AA</td>\n",
       "    </tr>\n",
       "    <tr>\n",
       "      <th>4</th>\n",
       "      <td>max</td>\n",
       "      <td>20.0</td>\n",
       "      <td>287.5</td>\n",
       "      <td>282.5</td>\n",
       "      <td>285.0</td>\n",
       "      <td>127.45936</td>\n",
       "      <td>19545600</td>\n",
       "      <td>XOM</td>\n",
       "    </tr>\n",
       "  </tbody>\n",
       "</table>\n",
       "</div>"
      ],
      "text/plain": [
       "  summary                open                high                 low  \\\n",
       "0   count                5106                5106                5064   \n",
       "1    mean  1.0904873526012002  16.757624946793637  15.728619917198033   \n",
       "2  stddev    2.36445352530491   53.91407348193546   51.32292289814399   \n",
       "3     min                 0.0                 0.0         0.052377883   \n",
       "4     max                20.0               287.5               282.5   \n",
       "\n",
       "               close          adj_close             volume stock  \n",
       "0               5106               5085               5085  5106  \n",
       "1  16.64199179044607  5.986642513535306  540930.2458210423  None  \n",
       "2  53.54677139900802  24.64637054715319  864596.2440525505  None  \n",
       "3        0.053624976       4.0381454E-7                  0    AA  \n",
       "4              285.0          127.45936           19545600   XOM  "
      ]
     },
     "execution_count": 6,
     "metadata": {},
     "output_type": "execute_result"
    }
   ],
   "source": [
    "#TODO: Write your code here\n",
    "df_1962.describe().toPandas()"
   ]
  },
  {
   "cell_type": "markdown",
   "metadata": {},
   "source": [
    "> ℹ️ **Instructions** ℹ️\n",
    ">\n",
    "> Generate histograms for the six numerical attributes found in the data to understand the distribution of values.\n",
    ">\n",
    ">*You may use as many coding cells as necessary.*"
   ]
  },
  {
   "cell_type": "code",
   "execution_count": 7,
   "metadata": {},
   "outputs": [
    {
     "data": {
      "text/plain": [
       "array([[<AxesSubplot:title={'center':'open'}>,\n",
       "        <AxesSubplot:title={'center':'high'}>],\n",
       "       [<AxesSubplot:title={'center':'low'}>,\n",
       "        <AxesSubplot:title={'center':'close'}>],\n",
       "       [<AxesSubplot:title={'center':'adj_close'}>,\n",
       "        <AxesSubplot:title={'center':'volume'}>]], dtype=object)"
      ]
     },
     "execution_count": 7,
     "metadata": {},
     "output_type": "execute_result"
    },
    {
     "data": {
      "image/png": "[encoded data removed]",
      "text/plain": [
       "<Figure size 432x288 with 6 Axes>"
      ]
     },
     "metadata": {
      "needs_background": "light"
     },
     "output_type": "display_data"
    }
   ],
   "source": [
    "#TODO: Write your code here\n",
    "df_1962.toPandas().hist()"
   ]
  },
  {
   "cell_type": "markdown",
   "metadata": {},
   "source": [
    "> ℹ️ **Instructions** ℹ️\n",
    ">\n",
    "> Investigate the **open** column to identify stocks that have open values greater than 2, and note any anomalies that you find in the data.\n",
    ">\n",
    ">*You may use as many coding cells as necessary.*"
   ]
  },
  {
   "cell_type": "code",
   "execution_count": 18,
   "metadata": {},
   "outputs": [
    {
     "name": "stdout",
     "output_type": "stream",
     "text": [
      "+----------+---------+---------+---------+---------+----------+------+-----+\n",
      "|      date|     open|     high|      low|    close| adj_close|volume|stock|\n",
      "+----------+---------+---------+---------+---------+----------+------+-----+\n",
      "|1962-02-19|  5.83929| 5.907375|  5.83929|  5.86332| 1.3863293| 29900|   AA|\n",
      "|1962-02-19| 5.481634| 5.528486| 5.481634|5.5167727| 1.2804527| 32000| ARNC|\n",
      "|1962-02-19|     7.26|7.2933335| 7.173333|7.1866665| 0.5825691|280000|  IBM|\n",
      "|1962-02-14|  5.83929|  5.83929| 5.747175|  5.80725| 1.3730713| 56500|   AA|\n",
      "|1962-02-14| 5.481634| 5.481634| 5.399644|5.4347825| 1.2614225| 60400| ARNC|\n",
      "|1962-02-14| 7.306667|7.3333335|     7.28|7.2933335|0.59121627|208000|  IBM|\n",
      "|1962-02-13|  5.85531| 5.915385|  5.85531|  5.86332| 1.3863293| 62500|   AA|\n",
      "|1962-02-13|  5.50506| 5.540199|  5.50506|5.5167727| 1.2804527| 66800| ARNC|\n",
      "|1962-02-13|7.4266667|7.4333334| 7.306667| 7.306667|0.59229714|256000|  IBM|\n",
      "|1962-02-26|  6.05556| 6.107625| 5.955435| 6.107625| 1.4440926| 82500|   AA|\n",
      "|1962-02-26|5.6924663| 5.715892| 5.598763| 5.715892| 1.3266692| 88100| ARNC|\n",
      "|1962-02-26|     7.16|7.1666665|     7.12| 7.133333|  0.578246|299200|  IBM|\n",
      "|1962-02-06| 5.915385| 5.915385|  5.82327|  5.85531| 1.3844348| 40500|   AA|\n",
      "|1962-02-06| 5.540199| 5.540199|5.4582086|  5.50506| 1.2777345| 43300| ARNC|\n",
      "|1962-02-06| 7.346667|     7.36|     7.32|7.3533335|0.59607965|256000|  IBM|\n",
      "|1962-02-02| 5.931405| 5.955435| 5.907375| 5.915385| 1.3915651| 30500|   AA|\n",
      "|1962-02-02|5.5636244| 5.598763| 5.528486| 5.540199| 1.2794067| 32600| ARNC|\n",
      "|1962-02-02|7.3933334|     7.44|     7.36|     7.44| 0.6030228|507200|  IBM|\n",
      "|1962-02-16| 5.739165|  5.83128| 5.739165|  5.83128| 1.3787535| 55900|   AA|\n",
      "|1962-02-16| 5.387931| 5.469921| 5.387931| 5.469921| 1.2695786| 59700| ARNC|\n",
      "+----------+---------+---------+---------+---------+----------+------+-----+\n",
      "only showing top 20 rows\n",
      "\n"
     ]
    }
   ],
   "source": [
    "#TODO: Write your code here\n",
    "df_1962.where((F.col('open') > 2)).show()"
   ]
  },
  {
   "cell_type": "markdown",
   "metadata": {},
   "source": [
    " ## 📔️**Notes** 📔️\n",
    "\n",
    " *Use this cell to note down any potential findings.*\n",
    "\n",
    " 1.\n",
    " 2.\n",
    "    ...\n",
    " "
   ]
  },
  {
   "cell_type": "markdown",
   "metadata": {},
   "source": [
    "> ℹ️ **Instructions** ℹ️\n",
    ">\n",
    "> Investigate **high**, **low**, **close**, and **adj_close** to determine if any stocks may be deviating from the normal ranges of the data set. Note down the stock(s) that you come across.\n",
    ">\n",
    ">*You may use as many coding cells as necessary.*"
   ]
  },
  {
   "cell_type": "code",
   "execution_count": 8,
   "metadata": {},
   "outputs": [],
   "source": [
    "#TODO: Write your code here"
   ]
  },
  {
   "cell_type": "markdown",
   "metadata": {},
   "source": [
    " ## 📔️**Notes** 📔️\n",
    "\n",
    " *Use this cell to note down any potential findings.*\n",
    "\n",
    " 1.\n",
    " 2.\n",
    "    ..."
   ]
  },
  {
   "cell_type": "markdown",
   "metadata": {},
   "source": [
    "\n",
    "\n",
    "## Completeness\n",
    "\n",
    "Completeness is the proportion of stored data against the potential of “100% complete\". This is the degree to which the required data is in the dataset. \n",
    "\n",
    "Does the dataset have missing values, or if it is time-series data, does it have time period gaps? Has a bias been introduced that may change your assumptions or affect your results?\n",
    "\n",
    "Completeness issues can occur at the row level (gaps within the dataset) or the field level (one entry missing). At the field level, entire fields can being empty, or >80% of a field's data missing. \n",
    "\n",
    "Another issue that may occur is default values. A typical example of this is where a logger sends back a 0 instead of a null value, which can greatly skew any attempts at modelling. This is where it is instrumental to employ domain knowledge when assessing a dataset. \n",
    "\n",
    "- **Measured by**: A measure of the absence of blank (null) values or the presence of non-blank values;\n",
    "- **Units**: Percentage;\n",
    "- **Related to**: Validity and Accuracy."
   ]
  },
  {
   "cell_type": "markdown",
   "metadata": {},
   "source": [
    "### Missing values\n",
    "\n",
    "> ℹ️ **Instructions** ℹ️\n",
    ">\n",
    "> Write code to identify and count the number of missing values (nulls) in the dataset. Include a percentage to describe the proportion of missing values per column. Output the results in the following manner:\n",
    ">\n",
    "> `There are <number_of_missing_values> (<percentage>) null values in <column_name> column`\n",
    ">\n",
    ">*You may use as many coding cells as necessary.*"
   ]
  },
  {
   "cell_type": "code",
   "execution_count": 93,
   "metadata": {},
   "outputs": [
    {
     "name": "stdout",
     "output_type": "stream",
     "text": [
      "There are 0 (0.0%) null values in date column\n",
      "There are 0 (0.0%) null values in open column\n",
      "There are 0 (0.0%) null values in high column\n",
      "There are 42 (0.82%) null values in low column\n",
      "There are 0 (0.0%) null values in close column\n",
      "There are 21 (0.41%) null values in adj_close column\n",
      "There are 21 (0.41%) null values in volume column\n",
      "There are 0 (0.0%) null values in stock column\n"
     ]
    }
   ],
   "source": [
    "#TODO: Write your code here\n",
    "\n",
    "all_the_nulls = {}  # Dictionary to keep track of the results\n",
    "for column in df_1962.columns:   # loop through each column\n",
    "    _count = df_1962.where(df_1962[column].isNull()).count()  # null count in column x\n",
    "    _total_count = df_1962.select(df_1962[column]).count()    # total count of column x \n",
    "    print(f'There are {_count} ({round(_count/_total_count*100, 2)}%) null values in {column} column')  # print out and calculate results\n",
    "    all_the_nulls[f'{column}'] = _count # recording results in missing_count dictionary"
   ]
  },
  {
   "cell_type": "markdown",
   "metadata": {},
   "source": [
    "### Columns with missing values"
   ]
  },
  {
   "cell_type": "markdown",
   "metadata": {},
   "source": [
    "\n",
    "> ℹ️ **Instructions** ℹ️\n",
    ">\n",
    "> From the above result, probe the columns that are affected by the missing data to find out which stocks were affected.\n",
    ">\n",
    ">*You may use as many coding cells as necessary.*"
   ]
  },
  {
   "cell_type": "code",
   "execution_count": 39,
   "metadata": {},
   "outputs": [
    {
     "name": "stdout",
     "output_type": "stream",
     "text": [
      "+----------+---------+---------+----+---------+----------+------+-----+\n",
      "|      date|     open|     high| low|    close| adj_close|volume|stock|\n",
      "+----------+---------+---------+----+---------+----------+------+-----+\n",
      "|1962-03-20|1.6666666|1.6979166|null|1.6979166|0.14584826|177600|  CAT|\n",
      "|1962-03-27| 1.671875|1.6770834|null| 1.671875|0.14361136|112800|  CAT|\n",
      "|1962-03-14|1.6302084|1.6614584|null|1.6614584|0.14271663|117600|  CAT|\n",
      "|1962-03-01|1.6822916| 1.703125|null|1.6822916|0.14450607| 74400|  CAT|\n",
      "|1962-03-22|1.6666666|1.6927084|null|1.6822916|0.14450607|268800|  CAT|\n",
      "|1962-03-23|1.6822916|1.6979166|null|1.6822916|0.14450607|189600|  CAT|\n",
      "|1962-03-26|1.6822916|   1.6875|null| 1.671875|0.14361136|124800|  CAT|\n",
      "|1962-03-05|   1.6875|1.6927084|null|   1.6875|0.14495347| 79200|  CAT|\n",
      "|1962-03-12|1.6354166| 1.640625|null|1.6145834|0.13869008| 96000|  CAT|\n",
      "|1962-03-21|1.6979166| 1.703125|null|  1.65625| 0.1422691|232800|  CAT|\n",
      "|1962-03-16|1.6458334|1.6614584|null|1.6614584|0.14271663| 79200|  CAT|\n",
      "|1962-03-02|1.6822916|   1.6875|null|   1.6875|0.14495347|105600|  CAT|\n",
      "|1962-03-19|1.6614584|1.6822916|null|1.6614584|0.14271663|105600|  CAT|\n",
      "|1962-03-08|  1.65625|1.6614584|null| 1.640625|  0.140927| 98400|  CAT|\n",
      "|1962-03-30|1.6822916| 1.703125|null| 1.703125|0.14629564| 86400|  CAT|\n",
      "|1962-03-29| 1.703125| 1.703125|null|1.6822916|0.14450607| 91200|  CAT|\n",
      "|1962-03-13|1.6145834|1.6354166|null|    1.625|0.13958487|141600|  CAT|\n",
      "|1962-03-28| 1.671875| 1.703125|null| 1.703125|0.14629564|146400|  CAT|\n",
      "|1962-03-07|1.6770834|1.6770834|null|  1.65625| 0.1422691|172800|  CAT|\n",
      "|1962-03-09| 1.640625|1.6458334|null|1.6354166|0.14047968| 86400|  CAT|\n",
      "|1962-03-15|1.6614584|1.6614584|null|1.6458334|0.14137442|139200|  CAT|\n",
      "|1962-03-06|   1.6875| 1.703125|null|1.6770834| 0.1440587| 98400|  CAT|\n",
      "|1962-12-03|      0.0|    247.5|null|    247.5|  114.7004|   500|  NAV|\n",
      "|1962-12-31|      0.0|  250.625|null|   248.75| 116.69414|   600|  NAV|\n",
      "|1962-12-20|      0.0|   241.25|null|  239.375|112.296135|   600|  NAV|\n",
      "|1962-12-28|      0.0|  249.375|null|  248.125| 116.40094|   300|  NAV|\n",
      "|1962-12-18|      0.0|   238.75|null|   236.25|  110.8301|   900|  NAV|\n",
      "|1962-12-27|      0.0|  248.125|null|  248.125| 116.40094|   600|  NAV|\n",
      "|1962-12-21|      0.0|  243.125|null|    242.5| 113.76213|   500|  NAV|\n",
      "|1962-12-04|      0.0|  249.375|null|  249.375| 115.56933|   500|  NAV|\n",
      "|1962-12-05|      0.0|   248.75|null|   248.75|115.279655|   500|  NAV|\n",
      "|1962-12-26|      0.0|  246.875|null|   246.25|115.521324|   500|  NAV|\n",
      "|1962-12-19|      0.0|    240.0|null|    240.0|112.589325|   700|  NAV|\n",
      "|1962-12-12|      0.0|  244.375|null|   241.25| 113.17572|   600|  NAV|\n",
      "|1962-12-11|      0.0|  244.375|null|  244.375| 114.64173|   400|  NAV|\n",
      "|1962-12-07|      0.0|  251.875|null|    250.0| 115.85895|  1400|  NAV|\n",
      "|1962-12-24|      0.0|    245.0|null|  244.375| 114.64173|   500|  NAV|\n",
      "|1962-12-10|      0.0|  249.375|null|    247.5|  114.7004|  2200|  NAV|\n",
      "|1962-12-14|      0.0|  239.375|null|  239.375|112.296135|   400|  NAV|\n",
      "|1962-12-06|      0.0|  249.375|null|  249.375| 115.56933|   500|  NAV|\n",
      "|1962-12-17|      0.0|  240.625|null|   238.75| 112.00292|   700|  NAV|\n",
      "|1962-12-13|      0.0|   241.25|null|  238.125| 111.70971|   500|  NAV|\n",
      "+----------+---------+---------+----+---------+----------+------+-----+\n",
      "\n"
     ]
    }
   ],
   "source": [
    "#TODO: Write your code here\n",
    "df_1962.where(F.col('low').isNull()).sort(F.col('stock')).show(50)"
   ]
  },
  {
   "cell_type": "code",
   "execution_count": 38,
   "metadata": {},
   "outputs": [
    {
     "name": "stdout",
     "output_type": "stream",
     "text": [
      "+----------+----+---------+---------+---------+---------+------+-----+\n",
      "|      date|open|     high|      low|    close|adj_close|volume|stock|\n",
      "+----------+----+---------+---------+---------+---------+------+-----+\n",
      "|1962-06-12| 0.0|5.6666665|5.6041665|5.6041665|     null| 50400|   FL|\n",
      "|1962-06-06| 0.0|    5.875|  5.65625|5.8333335|     null|109200|   FL|\n",
      "|1962-06-07| 0.0|  5.84375|5.7291665|5.7291665|     null| 36000|   FL|\n",
      "|1962-06-18| 0.0|5.6666665|      5.5|   5.5625|     null| 42000|   FL|\n",
      "|1962-06-15| 0.0|5.6666665|5.4583335|5.6666665|     null| 64800|   FL|\n",
      "|1962-06-22| 0.0|5.3645835|5.2916665|5.2916665|     null| 67200|   FL|\n",
      "|1962-06-19| 0.0|      5.5|5.4791665|5.4791665|     null| 19200|   FL|\n",
      "|1962-06-21| 0.0|  5.46875|5.4166665|5.4166665|     null| 49200|   FL|\n",
      "|1962-06-20| 0.0|  5.53125|5.4583335|5.4583335|     null| 34800|   FL|\n",
      "|1962-06-01| 0.0|5.8333335|     5.75|5.7916665|     null| 49200|   FL|\n",
      "|1962-06-11| 0.0|5.7083335|5.6458335|5.6458335|     null|  8400|   FL|\n",
      "|1962-06-05| 0.0|5.6666665|  5.59375|5.6145835|     null| 52800|   FL|\n",
      "|1962-06-04| 0.0|5.7708335|5.6458335|5.6666665|     null| 68400|   FL|\n",
      "|1962-06-28| 0.0|  5.46875|5.3333335|5.4583335|     null| 26400|   FL|\n",
      "|1962-06-08| 0.0|5.7916665|5.6458335|5.6458335|     null| 20400|   FL|\n",
      "|1962-06-27| 0.0|  5.40625|   5.3125|5.3541665|     null| 51600|   FL|\n",
      "|1962-06-26| 0.0|   5.4375|  5.34375|5.3645835|     null| 56400|   FL|\n",
      "|1962-06-25| 0.0|   5.3125|5.2083335|     5.25|     null| 90000|   FL|\n",
      "|1962-06-14| 0.0|5.5833335|5.5208335|5.5208335|     null| 48000|   FL|\n",
      "|1962-06-29| 0.0|      5.5|    5.375|    5.375|     null| 28800|   FL|\n",
      "|1962-06-13| 0.0|5.5833335|5.5416665|5.5520835|     null| 54000|   FL|\n",
      "+----------+----+---------+---------+---------+---------+------+-----+\n",
      "\n"
     ]
    }
   ],
   "source": [
    "df_1962.where(F.col('adj_close').isNull()).show(50)"
   ]
  },
  {
   "cell_type": "code",
   "execution_count": 36,
   "metadata": {},
   "outputs": [
    {
     "name": "stdout",
     "output_type": "stream",
     "text": [
      "+----------+----+----------+----------+----------+------------+------+-----+\n",
      "|      date|open|      high|       low|     close|   adj_close|volume|stock|\n",
      "+----------+----+----------+----------+----------+------------+------+-----+\n",
      "|1962-07-20| 0.0| 0.1730324| 0.1724537| 0.1724537| 4.874888E-7|  null|  JNJ|\n",
      "|1962-07-25| 0.0| 0.1724537|0.16435185|0.16435185|4.6458675E-7|  null|  JNJ|\n",
      "|1962-07-03| 0.0|0.18171297|0.17824075|0.18171297| 5.136628E-7|  null|  JNJ|\n",
      "|1962-07-09| 0.0|0.17708333|0.17708333|0.17708333|5.0057577E-7|  null|  JNJ|\n",
      "|1962-07-17| 0.0|0.17766203|0.17766203|0.17766203| 5.022119E-7|  null|  JNJ|\n",
      "|1962-07-18| 0.0|0.17534722|0.17418982|0.17418982| 4.923964E-7|  null|  JNJ|\n",
      "|1962-07-27| 0.0| 0.1701389|0.16898148|0.16956018|4.7930956E-7|  null|  JNJ|\n",
      "|1962-07-31| 0.0|0.17274305| 0.1712963|0.17274305| 4.883069E-7|  null|  JNJ|\n",
      "|1962-07-02| 0.0|0.18229167|0.17650463|0.18229167|5.1529855E-7|  null|  JNJ|\n",
      "|1962-07-16| 0.0|0.17881945|0.17766203|0.17766203| 5.022119E-7|  null|  JNJ|\n",
      "|1962-07-11| 0.0|0.17592593| 0.1724537|0.17418982| 4.923964E-7|  null|  JNJ|\n",
      "|1962-07-24| 0.0| 0.1701389|0.16319445|0.16319445|4.6131473E-7|  null|  JNJ|\n",
      "|1962-07-13| 0.0|0.18113425|0.17592593|0.18113425| 5.120267E-7|  null|  JNJ|\n",
      "|1962-07-19| 0.0| 0.1736111| 0.1724537| 0.1724537| 4.874888E-7|  null|  JNJ|\n",
      "|1962-07-06| 0.0|0.18055555|0.17476852|0.17476852| 4.940323E-7|  null|  JNJ|\n",
      "|1962-07-12| 0.0|0.18113425|0.17592593|0.17881945| 5.054835E-7|  null|  JNJ|\n",
      "|1962-07-26| 0.0|0.16956018|0.16608797|0.16956018|4.7930956E-7|  null|  JNJ|\n",
      "|1962-07-05| 0.0|0.18229167|0.17939815|0.18229167|5.1529855E-7|  null|  JNJ|\n",
      "|1962-07-30| 0.0|0.16898148|0.16782407|0.16898148| 4.776736E-7|  null|  JNJ|\n",
      "|1962-07-23| 0.0| 0.1730324| 0.1707176| 0.1707176| 4.825813E-7|  null|  JNJ|\n",
      "|1962-07-10| 0.0|0.18402778|0.17824075|0.17824075| 5.038474E-7|  null|  JNJ|\n",
      "+----------+----+----------+----------+----------+------------+------+-----+\n",
      "\n"
     ]
    }
   ],
   "source": [
    "df_1962.where(F.col('volume').isNull()).show(50)"
   ]
  },
  {
   "cell_type": "code",
   "execution_count": 31,
   "metadata": {},
   "outputs": [
    {
     "name": "stdout",
     "output_type": "stream",
     "text": [
      "+-----+-----+\n",
      "|stock|count|\n",
      "+-----+-----+\n",
      "|  JNJ|   21|\n",
      "|  CAT|   22|\n",
      "|   FL|   21|\n",
      "|  NAV|   20|\n",
      "+-----+-----+\n",
      "\n"
     ]
    }
   ],
   "source": [
    "df_1962.where(F.col('low').isNull() | F.col('adj_close').isNull() | F.col('volume').isNull()).groupby(F.col('stock')).count().show()"
   ]
  },
  {
   "cell_type": "markdown",
   "metadata": {},
   "source": [
    "#### Fix Completeness\n",
    "\n",
    "How do we deal with incomplete data?\n",
    "- Dropping missing values\n",
    "- Discard the incomplete column\n",
    "- Discard the rows containing missing data\n",
    "- Case deletion\n",
    "\n",
    "> ℹ️ **Instructions** ℹ️\n",
    ">\n",
    "> Use the appropriate strategy to remedy the missing data. \n",
    ">\n",
    ">*You may use as many coding cells as necessary.*"
   ]
  },
  {
   "cell_type": "code",
   "execution_count": 9,
   "metadata": {},
   "outputs": [],
   "source": [
    "#TODO: Write your code here"
   ]
  },
  {
   "cell_type": "markdown",
   "metadata": {},
   "source": [
    "### Zero Values\n",
    "\n",
    "Take a deeper look into the entries with many zero values."
   ]
  },
  {
   "cell_type": "markdown",
   "metadata": {},
   "source": [
    "#### Fix Completeness\n",
    "\n",
    "Completeness issues can be fixed through imputation of the missing data through:\n",
    "- imputation by mean/mode/median;\n",
    "- regression; or\n",
    "- KNN.\n",
    " \n",
    "> ℹ️ **Instructions** ℹ️\n",
    ">\n",
    "> Write code to identify and count the number of zeros (0) in the dataset. Include a percentage to describe the proportion of missing values per column. Output the results in the following manner:\n",
    ">\n",
    "> `There are <number_of_zeros> (<percentage>) zero values in <column_name> column`\n",
    ">\n",
    ">*You may use as many coding cells as necessary.*"
   ]
  },
  {
   "cell_type": "code",
   "execution_count": 97,
   "metadata": {},
   "outputs": [
    {
     "name": "stdout",
     "output_type": "stream",
     "text": [
      "There are 0 (0.0%) zero values in date column\n",
      "There are 2768 (54.21%) zero values in open column\n",
      "There are 20 (0.39%) zero values in high column\n",
      "There are 0 (0.0%) zero values in low column\n",
      "There are 0 (0.0%) zero values in close column\n",
      "There are 0 (0.0%) zero values in adj_close column\n",
      "There are 27 (0.53%) zero values in volume column\n",
      "There are 0 (0.0%) zero values in stock column\n"
     ]
    }
   ],
   "source": [
    "#TODO: Write your code here\n",
    "num_of_zeros = {}\n",
    "\n",
    "for col in df_1962.columns:\n",
    "    zero_count = df_1962.where(df_1962[col].cast('float') == 0).count()\n",
    "    count_total = df_1962.count()\n",
    "    print(f'There are {zero_count} ({round(zero_count / count_total * 100,2)}%) zero values in {col} column')\n",
    "    num_of_zeros[f'{col}'] = zero_count"
   ]
  },
  {
   "cell_type": "markdown",
   "metadata": {},
   "source": [
    "From the above section, you find that there are a few columns that contain zero values. However, some of these are true zeros and are explainable. Your task is to distinguish which column should undergo data imputation.\n",
    "\n",
    "> ℹ️ **Instructions** ℹ️\n",
    ">\n",
    "> Investigate the columns with zero values and determine which one should undergo data imputation. Take note of the stock and month on which zero values occurred.\n",
    ">\n",
    ">*You may use as many coding cells as necessary.*"
   ]
  },
  {
   "cell_type": "code",
   "execution_count": 101,
   "metadata": {},
   "outputs": [
    {
     "name": "stdout",
     "output_type": "stream",
     "text": [
      "+----------+-----+\n",
      "|      date|count|\n",
      "+----------+-----+\n",
      "|1962-04-18|   11|\n",
      "|1962-10-23|   11|\n",
      "|1962-08-28|   10|\n",
      "|1962-01-09|   11|\n",
      "|1962-02-06|   11|\n",
      "|1962-03-20|   11|\n",
      "|1962-09-18|   12|\n",
      "|1962-04-13|   11|\n",
      "|1962-05-25|   11|\n",
      "|1962-09-10|   12|\n",
      "|1962-09-13|   12|\n",
      "|1962-10-03|   11|\n",
      "|1962-03-19|   11|\n",
      "|1962-01-25|   11|\n",
      "|1962-11-05|   11|\n",
      "|1962-01-23|   11|\n",
      "|1962-05-02|   11|\n",
      "|1962-01-03|   11|\n",
      "|1962-05-01|   11|\n",
      "|1962-01-24|   11|\n",
      "+----------+-----+\n",
      "only showing top 20 rows\n",
      "\n"
     ]
    }
   ],
   "source": [
    "#TODO: Write your code here\n",
    "open_zeros = df_1962.where(df_1962['open'].cast('float') ==0).groupBy(df_1962['date']).count().show()"
   ]
  },
  {
   "cell_type": "code",
   "execution_count": 107,
   "metadata": {},
   "outputs": [
    {
     "name": "stdout",
     "output_type": "stream",
     "text": [
      "+-----+-----+\n",
      "|stock|count|\n",
      "+-----+-----+\n",
      "|  XOM|  252|\n",
      "|   PG|  229|\n",
      "|   GT|  252|\n",
      "|   MO|  252|\n",
      "|  JNJ|  252|\n",
      "|  CVX|  252|\n",
      "|  DTE|  252|\n",
      "|   IP|  252|\n",
      "|   FL|  252|\n",
      "|   ED|  271|\n",
      "|  NAV|  252|\n",
      "+-----+-----+\n",
      "\n"
     ]
    }
   ],
   "source": [
    "df_1962.select('date','open','stock').where(df_1962['open']==0).groupBy(df_1962['stock']).count().show(100)"
   ]
  },
  {
   "cell_type": "markdown",
   "metadata": {},
   "source": [
    "> ℹ️ **Instructions** ℹ️\n",
    ">\n",
    "> Once you have identified the column that needs to undergo imputation, update the values for the affected records by using the average value for the affected stock.\n",
    ">\n",
    ">*You may use as many coding cells as necessary.*"
   ]
  },
  {
   "cell_type": "code",
   "execution_count": 109,
   "metadata": {},
   "outputs": [],
   "source": [
    "test = df_1962.select('date','open','stock').where(df_1962['stock']=='XOM')"
   ]
  },
  {
   "cell_type": "code",
   "execution_count": 111,
   "metadata": {},
   "outputs": [
    {
     "name": "stdout",
     "output_type": "stream",
     "text": [
      "+----------+----+-----+\n",
      "|      date|open|stock|\n",
      "+----------+----+-----+\n",
      "|1962-02-19| 0.0|  XOM|\n",
      "|1962-02-14| 0.0|  XOM|\n",
      "|1962-02-13| 0.0|  XOM|\n",
      "|1962-02-26| 0.0|  XOM|\n",
      "|1962-02-06| 0.0|  XOM|\n",
      "|1962-02-02| 0.0|  XOM|\n",
      "|1962-02-16| 0.0|  XOM|\n",
      "|1962-02-27| 0.0|  XOM|\n",
      "|1962-02-12| 0.0|  XOM|\n",
      "|1962-02-20| 0.0|  XOM|\n",
      "|1962-02-09| 0.0|  XOM|\n",
      "|1962-02-28| 0.0|  XOM|\n",
      "|1962-02-05| 0.0|  XOM|\n",
      "|1962-02-08| 0.0|  XOM|\n",
      "|1962-02-01| 0.0|  XOM|\n",
      "|1962-02-15| 0.0|  XOM|\n",
      "|1962-02-07| 0.0|  XOM|\n",
      "|1962-02-23| 0.0|  XOM|\n",
      "|1962-02-21| 0.0|  XOM|\n",
      "|1962-09-25| 0.0|  XOM|\n",
      "|1962-09-07| 0.0|  XOM|\n",
      "|1962-09-12| 0.0|  XOM|\n",
      "|1962-09-10| 0.0|  XOM|\n",
      "|1962-09-11| 0.0|  XOM|\n",
      "|1962-09-24| 0.0|  XOM|\n",
      "|1962-09-13| 0.0|  XOM|\n",
      "|1962-09-05| 0.0|  XOM|\n",
      "|1962-09-18| 0.0|  XOM|\n",
      "|1962-09-26| 0.0|  XOM|\n",
      "|1962-09-04| 0.0|  XOM|\n",
      "|1962-12-03| 0.0|  XOM|\n",
      "|1962-04-04| 0.0|  XOM|\n",
      "|1962-09-17| 0.0|  XOM|\n",
      "|1962-09-20| 0.0|  XOM|\n",
      "|1962-05-18| 0.0|  XOM|\n",
      "|1962-09-14| 0.0|  XOM|\n",
      "|1962-09-21| 0.0|  XOM|\n",
      "|1962-10-01| 0.0|  XOM|\n",
      "|1962-01-23| 0.0|  XOM|\n",
      "|1962-04-27| 0.0|  XOM|\n",
      "|1962-04-18| 0.0|  XOM|\n",
      "|1962-05-24| 0.0|  XOM|\n",
      "|1962-09-28| 0.0|  XOM|\n",
      "|1962-09-06| 0.0|  XOM|\n",
      "|1962-10-22| 0.0|  XOM|\n",
      "|1962-01-08| 0.0|  XOM|\n",
      "|1962-10-19| 0.0|  XOM|\n",
      "|1962-01-25| 0.0|  XOM|\n",
      "|1962-05-08| 0.0|  XOM|\n",
      "|1962-10-04| 0.0|  XOM|\n",
      "|1962-01-02| 0.0|  XOM|\n",
      "|1962-04-09| 0.0|  XOM|\n",
      "|1962-04-24| 0.0|  XOM|\n",
      "|1962-10-18| 0.0|  XOM|\n",
      "|1962-10-23| 0.0|  XOM|\n",
      "|1962-01-31| 0.0|  XOM|\n",
      "|1962-01-26| 0.0|  XOM|\n",
      "|1962-04-11| 0.0|  XOM|\n",
      "|1962-05-14| 0.0|  XOM|\n",
      "|1962-10-31| 0.0|  XOM|\n",
      "|1962-04-13| 0.0|  XOM|\n",
      "|1962-10-09| 0.0|  XOM|\n",
      "|1962-01-05| 0.0|  XOM|\n",
      "|1962-01-24| 0.0|  XOM|\n",
      "|1962-09-27| 0.0|  XOM|\n",
      "|1962-05-28| 0.0|  XOM|\n",
      "|1962-09-19| 0.0|  XOM|\n",
      "|1962-04-10| 0.0|  XOM|\n",
      "|1962-06-12| 0.0|  XOM|\n",
      "|1962-10-17| 0.0|  XOM|\n",
      "|1962-01-11| 0.0|  XOM|\n",
      "|1962-01-10| 0.0|  XOM|\n",
      "|1962-01-18| 0.0|  XOM|\n",
      "|1962-01-22| 0.0|  XOM|\n",
      "|1962-01-29| 0.0|  XOM|\n",
      "|1962-10-08| 0.0|  XOM|\n",
      "|1962-04-06| 0.0|  XOM|\n",
      "|1962-10-10| 0.0|  XOM|\n",
      "|1962-12-20| 0.0|  XOM|\n",
      "|1962-10-11| 0.0|  XOM|\n",
      "|1962-05-25| 0.0|  XOM|\n",
      "|1962-01-03| 0.0|  XOM|\n",
      "|1962-05-29| 0.0|  XOM|\n",
      "|1962-12-21| 0.0|  XOM|\n",
      "|1962-05-02| 0.0|  XOM|\n",
      "|1962-05-31| 0.0|  XOM|\n",
      "|1962-05-16| 0.0|  XOM|\n",
      "|1962-10-26| 0.0|  XOM|\n",
      "|1962-03-20| 0.0|  XOM|\n",
      "|1962-08-10| 0.0|  XOM|\n",
      "|1962-03-14| 0.0|  XOM|\n",
      "|1962-04-23| 0.0|  XOM|\n",
      "|1962-12-31| 0.0|  XOM|\n",
      "|1962-08-03| 0.0|  XOM|\n",
      "|1962-05-07| 0.0|  XOM|\n",
      "|1962-12-28| 0.0|  XOM|\n",
      "|1962-08-02| 0.0|  XOM|\n",
      "|1962-10-02| 0.0|  XOM|\n",
      "|1962-04-12| 0.0|  XOM|\n",
      "|1962-05-10| 0.0|  XOM|\n",
      "|1962-05-15| 0.0|  XOM|\n",
      "|1962-03-22| 0.0|  XOM|\n",
      "|1962-12-18| 0.0|  XOM|\n",
      "|1962-04-16| 0.0|  XOM|\n",
      "|1962-05-01| 0.0|  XOM|\n",
      "|1962-11-05| 0.0|  XOM|\n",
      "|1962-01-04| 0.0|  XOM|\n",
      "|1962-01-09| 0.0|  XOM|\n",
      "|1962-01-15| 0.0|  XOM|\n",
      "|1962-04-02| 0.0|  XOM|\n",
      "|1962-08-09| 0.0|  XOM|\n",
      "|1962-05-11| 0.0|  XOM|\n",
      "|1962-10-16| 0.0|  XOM|\n",
      "|1962-04-05| 0.0|  XOM|\n",
      "|1962-05-17| 0.0|  XOM|\n",
      "|1962-07-20| 0.0|  XOM|\n",
      "|1962-07-25| 0.0|  XOM|\n",
      "|1962-08-31| 0.0|  XOM|\n",
      "|1962-03-19| 0.0|  XOM|\n",
      "|1962-05-21| 0.0|  XOM|\n",
      "|1962-08-24| 0.0|  XOM|\n",
      "|1962-06-06| 0.0|  XOM|\n",
      "|1962-10-03| 0.0|  XOM|\n",
      "|1962-10-29| 0.0|  XOM|\n",
      "|1962-04-19| 0.0|  XOM|\n",
      "|1962-08-28| 0.0|  XOM|\n",
      "|1962-04-25| 0.0|  XOM|\n",
      "|1962-06-07| 0.0|  XOM|\n",
      "|1962-12-19| 0.0|  XOM|\n",
      "|1962-01-12| 0.0|  XOM|\n",
      "|1962-06-18| 0.0|  XOM|\n",
      "|1962-07-03| 0.0|  XOM|\n",
      "|1962-08-13| 0.0|  XOM|\n",
      "|1962-11-12| 0.0|  XOM|\n",
      "|1962-12-27| 0.0|  XOM|\n",
      "|1962-03-15| 0.0|  XOM|\n",
      "|1962-04-26| 0.0|  XOM|\n",
      "|1962-06-15| 0.0|  XOM|\n",
      "|1962-07-09| 0.0|  XOM|\n",
      "|1962-07-17| 0.0|  XOM|\n",
      "|1962-08-16| 0.0|  XOM|\n",
      "|1962-06-22| 0.0|  XOM|\n",
      "|1962-08-29| 0.0|  XOM|\n",
      "|1962-10-05| 0.0|  XOM|\n",
      "|1962-11-08| 0.0|  XOM|\n",
      "|1962-01-19| 0.0|  XOM|\n",
      "|1962-11-01| 0.0|  XOM|\n",
      "|1962-06-19| 0.0|  XOM|\n",
      "|1962-06-21| 0.0|  XOM|\n",
      "|1962-03-13| 0.0|  XOM|\n",
      "|1962-04-03| 0.0|  XOM|\n",
      "|1962-07-18| 0.0|  XOM|\n",
      "|1962-10-30| 0.0|  XOM|\n",
      "|1962-06-20| 0.0|  XOM|\n",
      "|1962-05-23| 0.0|  XOM|\n",
      "|1962-06-01| 0.0|  XOM|\n",
      "|1962-03-01| 0.0|  XOM|\n",
      "|1962-11-29| 0.0|  XOM|\n",
      "|1962-01-30| 0.0|  XOM|\n",
      "|1962-06-11| 0.0|  XOM|\n",
      "|1962-07-27| 0.0|  XOM|\n",
      "|1962-08-14| 0.0|  XOM|\n",
      "|1962-04-30| 0.0|  XOM|\n",
      "|1962-06-05| 0.0|  XOM|\n",
      "|1962-07-31| 0.0|  XOM|\n",
      "|1962-11-28| 0.0|  XOM|\n",
      "|1962-01-16| 0.0|  XOM|\n",
      "|1962-03-27| 0.0|  XOM|\n",
      "|1962-07-02| 0.0|  XOM|\n",
      "|1962-07-16| 0.0|  XOM|\n",
      "|1962-10-15| 0.0|  XOM|\n",
      "|1962-07-11| 0.0|  XOM|\n",
      "|1962-07-24| 0.0|  XOM|\n",
      "|1962-10-24| 0.0|  XOM|\n",
      "|1962-11-30| 0.0|  XOM|\n",
      "|1962-12-24| 0.0|  XOM|\n",
      "|1962-03-16| 0.0|  XOM|\n",
      "|1962-05-09| 0.0|  XOM|\n",
      "|1962-08-22| 0.0|  XOM|\n",
      "|1962-05-04| 0.0|  XOM|\n",
      "|1962-07-13| 0.0|  XOM|\n",
      "|1962-10-25| 0.0|  XOM|\n",
      "|1962-01-17| 0.0|  XOM|\n",
      "|1962-06-04| 0.0|  XOM|\n",
      "|1962-08-07| 0.0|  XOM|\n",
      "|1962-08-27| 0.0|  XOM|\n",
      "|1962-11-26| 0.0|  XOM|\n",
      "|1962-08-23| 0.0|  XOM|\n",
      "|1962-07-19| 0.0|  XOM|\n",
      "|1962-08-01| 0.0|  XOM|\n",
      "|1962-08-06| 0.0|  XOM|\n",
      "|1962-10-12| 0.0|  XOM|\n",
      "|1962-03-30| 0.0|  XOM|\n",
      "|1962-12-26| 0.0|  XOM|\n",
      "|1962-03-07| 0.0|  XOM|\n",
      "|1962-06-28| 0.0|  XOM|\n",
      "|1962-03-23| 0.0|  XOM|\n",
      "|1962-06-08| 0.0|  XOM|\n",
      "|1962-06-27| 0.0|  XOM|\n",
      "|1962-07-06| 0.0|  XOM|\n",
      "|1962-11-02| 0.0|  XOM|\n",
      "|1962-07-12| 0.0|  XOM|\n",
      "|1962-03-12| 0.0|  XOM|\n",
      "|1962-03-21| 0.0|  XOM|\n",
      "|1962-05-03| 0.0|  XOM|\n",
      "|1962-08-20| 0.0|  XOM|\n",
      "|1962-08-30| 0.0|  XOM|\n",
      "|1962-05-22| 0.0|  XOM|\n",
      "|1962-08-08| 0.0|  XOM|\n",
      "|1962-06-26| 0.0|  XOM|\n",
      "|1962-11-21| 0.0|  XOM|\n",
      "|1962-03-02| 0.0|  XOM|\n",
      "|1962-07-26| 0.0|  XOM|\n",
      "|1962-03-08| 0.0|  XOM|\n",
      "|1962-03-29| 0.0|  XOM|\n",
      "|1962-08-17| 0.0|  XOM|\n",
      "|1962-03-28| 0.0|  XOM|\n",
      "|1962-06-25| 0.0|  XOM|\n",
      "|1962-08-15| 0.0|  XOM|\n",
      "|1962-11-15| 0.0|  XOM|\n",
      "|1962-11-16| 0.0|  XOM|\n",
      "|1962-11-20| 0.0|  XOM|\n",
      "|1962-07-05| 0.0|  XOM|\n",
      "|1962-11-09| 0.0|  XOM|\n",
      "|1962-11-19| 0.0|  XOM|\n",
      "|1962-11-23| 0.0|  XOM|\n",
      "|1962-04-17| 0.0|  XOM|\n",
      "|1962-06-14| 0.0|  XOM|\n",
      "|1962-07-30| 0.0|  XOM|\n",
      "|1962-03-09| 0.0|  XOM|\n",
      "|1962-11-27| 0.0|  XOM|\n",
      "|1962-06-29| 0.0|  XOM|\n",
      "|1962-03-06| 0.0|  XOM|\n",
      "|1962-06-13| 0.0|  XOM|\n",
      "|1962-07-23| 0.0|  XOM|\n",
      "|1962-11-14| 0.0|  XOM|\n",
      "|1962-03-26| 0.0|  XOM|\n",
      "|1962-11-13| 0.0|  XOM|\n",
      "|1962-03-05| 0.0|  XOM|\n",
      "|1962-12-10| 0.0|  XOM|\n",
      "|1962-08-21| 0.0|  XOM|\n",
      "|1962-11-07| 0.0|  XOM|\n",
      "|1962-12-11| 0.0|  XOM|\n",
      "|1962-07-10| 0.0|  XOM|\n",
      "|1962-12-04| 0.0|  XOM|\n",
      "|1962-12-17| 0.0|  XOM|\n",
      "|1962-12-05| 0.0|  XOM|\n",
      "|1962-12-14| 0.0|  XOM|\n",
      "|1962-12-12| 0.0|  XOM|\n",
      "|1962-12-13| 0.0|  XOM|\n",
      "|1962-12-06| 0.0|  XOM|\n",
      "|1962-12-07| 0.0|  XOM|\n",
      "+----------+----+-----+\n",
      "\n"
     ]
    }
   ],
   "source": [
    "test.show(5000)"
   ]
  },
  {
   "cell_type": "code",
   "execution_count": null,
   "metadata": {},
   "outputs": [],
   "source": [
    "#TODO: Write your code here"
   ]
  },
  {
   "cell_type": "markdown",
   "metadata": {},
   "source": [
    "\n",
    "## Consistency\n",
    "\n",
    "Consistency is the absence of difference when comparing two or more representations of a thing against a reference.\n",
    "\n",
    "Data entries that refer to the same record or entity have to be consistent across all entries, e.g., if you are dealing with records from a logger in the field, the entries for that logger have to remain consistent, and the name or primary key of that logger cannot change from one entry to another. \n",
    "\n",
    "For example, 'Logger1', 'Loger1' and 'Logge1' are examples of inconsistent keys. \n",
    "\n",
    "This is not just within a single table but also becomes more important if you are dealing with relational data. In which case, the mappings between tables and systems must be consistent. If not, the relationships will be completely lost between the tables and referential integrity compromised. \n",
    "\n",
    "- **Measured by**: Analysis of pattern and/or value frequency;\n",
    "- **Units**: Percentage;\n",
    "- **Related to**: Accuracy, Validity, and Uniqueness."
   ]
  },
  {
   "cell_type": "markdown",
   "metadata": {},
   "source": [
    "> ℹ️ **Instructions** ℹ️\n",
    ">\n",
    "> There currently exists a stock that has inconsistent naming. Make use of the metadata to determine which stock is inconsistently named, then update the dataframe appropriately to get rid of this inconsistency.\n",
    ">\n",
    ">*You may use as many coding cells as necessary.*"
   ]
  },
  {
   "cell_type": "code",
   "execution_count": null,
   "metadata": {},
   "outputs": [],
   "source": [
    "#TODO: Write your code here"
   ]
  },
  {
   "cell_type": "markdown",
   "metadata": {},
   "source": [
    "## Timeliness\n",
    "\n",
    "Timeliness is the degree to which data represent reality from the required point in time.\n",
    "\n",
    "Timeliness expects that the data within your dataset is sufficiently up to date. If you are trying to answer questions that relate to recent problems, having timely data is extremely important. For example, you cannot use current flight patterns to model how many aeroplanes will be required by a large aeronautics company within the next 5-10 years. \n",
    "\n",
    "Similarly, when answering questions that require real-time answers (e.g., predicting when a pipe will burst in a manufacturing plant), you have to be set up to receive real-time data from sensors and loggers. \n",
    "\n",
    "- **Measured by**: Time difference;\n",
    "- **Units**: Time;\n",
    "- **Related to**: Accuracy because it will decay as time progress. "
   ]
  },
  {
   "cell_type": "markdown",
   "metadata": {},
   "source": [
    "It is important to see the latest value for each of the stocks that we are looking at:"
   ]
  },
  {
   "cell_type": "code",
   "execution_count": 44,
   "metadata": {},
   "outputs": [
    {
     "name": "stdout",
     "output_type": "stream",
     "text": [
      "+-----+----------+\n",
      "|stock| max(Date)|\n",
      "+-----+----------+\n",
      "|   AA|1962-12-31|\n",
      "|  XOM|1962-12-31|\n",
      "|  DIS|1962-12-31|\n",
      "|   PG|1962-12-31|\n",
      "|   GT|1962-12-31|\n",
      "|   MO|1962-12-31|\n",
      "|  IBM|1962-12-31|\n",
      "|  JNJ|1962-12-31|\n",
      "|  CVX|1962-12-31|\n",
      "|  DTE|1962-12-31|\n",
      "|   BA|1962-12-31|\n",
      "|   GE|1962-12-31|\n",
      "|  HPQ|1962-12-31|\n",
      "| ARNC|1962-12-31|\n",
      "|  CAT|1962-12-31|\n",
      "|   IP|1962-12-31|\n",
      "|   FL|1962-12-31|\n",
      "|   ED|1962-12-31|\n",
      "|  NAV|1962-12-31|\n",
      "|   KO|1962-12-31|\n",
      "+-----+----------+\n",
      "\n"
     ]
    }
   ],
   "source": [
    "df.groupBy('stock').agg(F.max('Date')).show()"
   ]
  },
  {
   "cell_type": "markdown",
   "metadata": {},
   "source": [
    "Sometimes, some of these axes of data quality will be less important than others. \n",
    "This is one of those cases where it is less important to have timely data, since \n",
    "we are trying to create a training dataset for a stock market prediction algorithm. \n",
    "\n",
    "It is important to know the context in which you are doing your modelling. "
   ]
  },
  {
   "cell_type": "markdown",
   "metadata": {},
   "source": [
    "### Gaps in the dataset\n",
    "\n",
    "Let's see if we can find inconsistencies in the time series by having a look at the number of entries for each of the tickers.\n",
    " \n",
    "> ℹ️ **Instructions** ℹ️\n",
    ">\n",
    "> Uncomment and use the below code to determine which dates had entries that were not equal to 20. You may have to change the name of the dataframe to see the resultant output\n",
    ">\n",
    ">*You may use as many coding cells as necessary.*"
   ]
  },
  {
   "cell_type": "code",
   "execution_count": null,
   "metadata": {},
   "outputs": [],
   "source": [
    "#df.orderBy('date').groupby('date').count().where(F.col('count') != 20).show(400)"
   ]
  },
  {
   "cell_type": "markdown",
   "metadata": {},
   "source": [
    "> ℹ️ **Instructions** ℹ️\n",
    ">\n",
    "> From the above result, investigate the number of times a stock appears for the given month. You can infer the months by using the output of the previous cell.\n",
    ">\n",
    ">*You may use as many coding cells as necessary.*"
   ]
  },
  {
   "cell_type": "code",
   "execution_count": null,
   "metadata": {},
   "outputs": [],
   "source": [
    "#TODO: Write your code here"
   ]
  },
  {
   "cell_type": "markdown",
   "metadata": {},
   "source": [
    "## Uniqueness\n",
    "\n",
    "Uniqueness requires that nothing will be recorded more than once based upon how that thing is identified. It is the inverse of an assessment of the level of duplication.\n",
    "\n",
    "Each entry within the dataset should only relate to a single event that has occurred and thus should not be duplicated. This is largely mediated by having the appropriate primary key, which means sticking to the requirements of a good primary key. All fields in the tables should be non-transitively dependent on the primary key.\n",
    "\n",
    "As such, deduplication of the dataset may be required. \n",
    "\n",
    "- **Measured by**: Analysis of the number of things assessed in the “real world” compared to the number of records of things in the dataset. This requires a reference dataset which is the ground truth;\n",
    "- **Units**: Percentage;\n",
    "- **Related to**: Consistency."
   ]
  },
  {
   "cell_type": "markdown",
   "metadata": {},
   "source": [
    "### Duplication Test\n",
    "For time-series data, it is important to check for duplications, as we typically expect all values to be unique within the dataset.\n",
    "\n",
    "The first thing to check will be if the primary key values within the dataset are unique - in our case, that will be a combination of the stock name and the date.\n",
    "\n",
    "Secondly, we want to check if the entries are all unique, which is done by checking for duplicates across that whole dataset."
   ]
  },
  {
   "cell_type": "markdown",
   "metadata": {},
   "source": [
    "> ℹ️ **Instructions** ℹ️\n",
    ">\n",
    "> Write code to determine if there are any duplicates within the data, and then proceed to correct this by dropping them from the dataframe.\n",
    ">\n",
    ">*You may use as many coding cells as necessary.*"
   ]
  },
  {
   "cell_type": "code",
   "execution_count": null,
   "metadata": {},
   "outputs": [],
   "source": [
    "#TODO: Write your code here"
   ]
  },
  {
   "cell_type": "markdown",
   "metadata": {},
   "source": [
    "## Validity\n",
    "Data is valid if it conforms to the syntax (format, type, range) of its definition.\n",
    "\n",
    "Certain values within a field may have specific criteria required to make it valid, e.g., numerical columns cannot contain alphabetical characters, which can occur due to scientific notation.\n",
    "\n",
    "This can be more difficult to determine in stings, in which case you may have to check using regex. \n",
    "\n",
    "- **Measured by**: Comparison between the data and metadata or documentation for the data item;\n",
    "- **Units**: Percentage of data items deemed Valid or Invalid;\n",
    "- **Related to**: Accuracy, Completeness, Consistency, and Uniqueness."
   ]
  },
  {
   "cell_type": "markdown",
   "metadata": {},
   "source": [
    "We need to first define what we expect from our dataset:\n",
    "\n",
    "- stock: string (nullable = true) => Should be contained in the list of expected tickers\n",
    "- date: date (nullable = true) => Should conform to date format, and be in the past\n",
    "- open: double (nullable = true) => Should be positive or 0\n",
    "- high: double (nullable = true) => Should be positive or 0\n",
    "- low: double (nullable = true) => Should be positive or 0 (should be < high)\n",
    "- close: double (nullable = true) => Should be positive or 0 (should be <= high )\n",
    "- adj_close: double (nullable = true) => Should be positive or 0\n",
    "- volume: integer (nullable = true) => Should be positive or 0\n",
    "- high_avg: double (nullable = true) => Derived (not needed to test)\n",
    "- high_imp: double (nullable = true) => Derived (not needed to test)\n",
    "- day_of_week: string (nullable = true) => Derived (not needed to test)\n",
    "\n",
    "*Is there any other logic that we can incorporate?*"
   ]
  },
  {
   "cell_type": "markdown",
   "metadata": {},
   "source": [
    "> ℹ️ **Instructions** ℹ️\n",
    ">\n",
    "> Use the metadata to check if all the stocks in your current dataframe are valid. In other words, make sure you have no foreign/unknown tickers in your dataframe.\n",
    ">\n",
    ">*You may use as many coding cells as necessary.*\n"
   ]
  },
  {
   "cell_type": "code",
   "execution_count": null,
   "metadata": {},
   "outputs": [],
   "source": [
    "#TODO: Write your code here"
   ]
  },
  {
   "cell_type": "markdown",
   "metadata": {},
   "source": [
    "> ℹ️ **Instructions** ℹ️\n",
    ">\n",
    ">\n",
    ">Check if the date column contains only valid dates and all dates are in the past.\n",
    ">\n",
    ">*Valid dates should already be checked in the data reading step.*"
   ]
  },
  {
   "cell_type": "code",
   "execution_count": null,
   "metadata": {},
   "outputs": [],
   "source": [
    "#TODO: Write your code here"
   ]
  },
  {
   "cell_type": "markdown",
   "metadata": {},
   "source": [
    "> ℹ️ **Instructions** ℹ️\n",
    ">\n",
    ">Check that all of numerical columns are positive."
   ]
  },
  {
   "cell_type": "code",
   "execution_count": null,
   "metadata": {},
   "outputs": [],
   "source": [
    "#TODO: Write your code here"
   ]
  },
  {
   "cell_type": "markdown",
   "metadata": {},
   "source": [
    "### Save Updates\n",
    "\n",
    "With our initial work of checking the various dimensions of the data quality completed, we can now save these results to a CSV file.  "
   ]
  },
  {
   "cell_type": "code",
   "execution_count": 67,
   "metadata": {},
   "outputs": [],
   "source": [
    "pd_df = df.toPandas()"
   ]
  },
  {
   "cell_type": "code",
   "execution_count": 68,
   "metadata": {},
   "outputs": [],
   "source": [
    "pd_df.to_csv('./<name>_<surname>_data_profiling.csv')"
   ]
  },
  {
   "cell_type": "code",
   "execution_count": null,
   "metadata": {},
   "outputs": [],
   "source": [
    "spark.stop()"
   ]
  }
 ],
 "metadata": {
  "interpreter": {
   "hash": "55d6b8151cb88622773a5eb8e49137ca8f533db79e4e0c23b44aaf91b81d09d6"
  },
  "kernelspec": {
   "display_name": "Python 3.9.7 ('base')",
   "language": "python",
   "name": "python3"
  },
  "language_info": {
   "codemirror_mode": {
    "name": "ipython",
    "version": 3
   },
   "file_extension": ".py",
   "mimetype": "text/x-python",
   "name": "python",
   "nbconvert_exporter": "python",
   "pygments_lexer": "ipython3",
   "version": "3.9.7"
  }
 },
 "nbformat": 4,
 "nbformat_minor": 2
}
